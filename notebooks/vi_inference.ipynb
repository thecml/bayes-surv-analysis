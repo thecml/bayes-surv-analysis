{
 "cells": [
  {
   "cell_type": "code",
   "execution_count": 3,
   "metadata": {},
   "outputs": [
    {
     "name": "stderr",
     "output_type": "stream",
     "text": [
      "`layer.add_variable` is deprecated and will be removed in a future version. Please use the `layer.add_weight()` method instead.\n",
      "`layer.add_variable` is deprecated and will be removed in a future version. Please use the `layer.add_weight()` method instead.\n"
     ]
    }
   ],
   "source": [
    "matplotlib_style = 'fivethirtyeight'\n",
    "import matplotlib.pyplot as plt; plt.style.use(matplotlib_style)\n",
    "import numpy as np\n",
    "import tensorflow as tf\n",
    "import os\n",
    "from pathlib import Path\n",
    "from sklearn.preprocessing import StandardScaler\n",
    "from sksurv.linear_model.coxph import BreslowEstimator\n",
    "matplotlib_style = 'fivethirtyeight'\n",
    "import matplotlib.pyplot as plt; plt.style.use(matplotlib_style)\n",
    "from sklearn.model_selection import train_test_split\n",
    "from utility.training import get_data_loader, scale_data, make_time_event_split\n",
    "from tools.model_builder import make_mcd_model, make_vi_model\n",
    "from utility.config import load_config\n",
    "from utility.loss import CoxPHLoss\n",
    "import paths as pt\n",
    "\n",
    "RUNS = 100\n",
    "\n",
    "# Load config\n",
    "config = load_config(pt.MLP_CONFIGS_DIR, f\"SEER.yaml\")\n",
    "optimizer = tf.keras.optimizers.deserialize(config['optimizer'])\n",
    "custom_objects = {\"CoxPHLoss\": CoxPHLoss()}\n",
    "with tf.keras.utils.custom_object_scope(custom_objects):\n",
    "    loss_fn = tf.keras.losses.deserialize(config['loss_fn'])\n",
    "activation_fn = config['activiation_fn']\n",
    "layers = config['network_layers']\n",
    "dropout_rate = config['dropout_rate']\n",
    "l2_reg = config['l2_reg']\n",
    "batch_size = config['batch_size']\n",
    "\n",
    "# Load data\n",
    "dl = get_data_loader(\"SEER\").load_data()\n",
    "X, y = dl.get_data()\n",
    "num_features, cat_features = dl.get_features()\n",
    "\n",
    "# Split data in train and test set\n",
    "X_train, X_test, y_train, y_test = train_test_split(X, y, train_size=0.7, random_state=0)\n",
    "\n",
    "# Scale data\n",
    "X_train, X_test = scale_data(X_train, X_test, cat_features, num_features)\n",
    "X_train = np.array(X_train)\n",
    "X_test = np.array(X_test)\n",
    "\n",
    "# Make time/event split\n",
    "t_train, e_train = make_time_event_split(y_train)\n",
    "t_test, e_test = make_time_event_split(y_test)\n",
    "\n",
    "# Create model instance\n",
    "model = make_vi_model(n_train_samples=X_train.shape[0],\n",
    "                      input_shape=X_train.shape[1:], output_dim=2,\n",
    "                      layers=layers, activation_fn=activation_fn,\n",
    "                      dropout_rate=dropout_rate, regularization_pen=l2_reg)\n",
    "\n",
    "# Restore the weights\n",
    "curr_dir = os.getcwd()\n",
    "root_dir = Path(curr_dir).absolute().parent\n",
    "model.load_weights(f'{root_dir}/models/seer_vi')\n",
    "\n",
    "optimizer = tf.keras.optimizers.Adam()\n",
    "loss_fn = CoxPHLoss()\n",
    "\n",
    "model.compile(loss=loss_fn, optimizer=optimizer)"
   ]
  },
  {
   "cell_type": "code",
   "execution_count": 4,
   "metadata": {},
   "outputs": [
    {
     "name": "stdout",
     "output_type": "stream",
     "text": [
      "[[ 0.29089397  0.34443322 -0.62660575]]\n",
      "[[ 1.8814006  -0.02888358  0.38638958]]\n",
      "[[-0.79997253 -2.197862    0.08708039]]\n",
      "[[0.9607682  0.19439496 0.6198016 ]]\n",
      "[[-0.3070018  0.6632284  1.6023059]]\n"
     ]
    }
   ],
   "source": [
    "# Make predictions\n",
    "x_pred = X_test[:3]\n",
    "for rep in range(5): #Predictions for 5 runs\n",
    "    print(model.predict(x_pred, verbose=0)[0:3].T)"
   ]
  },
  {
   "cell_type": "code",
   "execution_count": 5,
   "metadata": {},
   "outputs": [
    {
     "name": "stdout",
     "output_type": "stream",
     "text": [
      "Model: \"model_1\"\n",
      "_________________________________________________________________\n",
      " Layer (type)                Output Shape              Param #   \n",
      "=================================================================\n",
      " input_2 (InputLayer)        [(None, 28)]              0         \n",
      "                                                                 \n",
      " dense_flipout_2 (DenseFlipo  (None, 16)               928       \n",
      " ut)                                                             \n",
      "                                                                 \n",
      " batch_normalization_1 (Batc  (None, 16)               64        \n",
      " hNormalization)                                                 \n",
      "                                                                 \n",
      " dropout_1 (Dropout)         (None, 16)                0         \n",
      "                                                                 \n",
      " dense_flipout_3 (DenseFlipo  (None, 2)                68        \n",
      " ut)                                                             \n",
      "                                                                 \n",
      " distribution_lambda_1 (Dist  ((None, 1),              0         \n",
      " ributionLambda)              (None, 1))                         \n",
      "                                                                 \n",
      "=================================================================\n",
      "Total params: 1,060\n",
      "Trainable params: 1,028\n",
      "Non-trainable params: 32\n",
      "_________________________________________________________________\n"
     ]
    }
   ],
   "source": [
    "model.summary()"
   ]
  },
  {
   "cell_type": "code",
   "execution_count": 6,
   "metadata": {},
   "outputs": [],
   "source": [
    "# Sample from the parameters for the post predictive\n",
    "#from keras.models import Model\n",
    "#layer_name = 'dense_flipout_23'\n",
    "#model_params = Model(inputs=model.input,\n",
    "#                     outputs=model.get_layer(layer_name).output)\n",
    "#for rep in range(5): #Predictions for 5 runs\n",
    "#    print(model_params.predict(x_pred, verbose=0)[0:3].T)"
   ]
  },
  {
   "cell_type": "code",
   "execution_count": 7,
   "metadata": {},
   "outputs": [],
   "source": [
    "x_pred = X_test[:3]\n",
    "vi_cpd = np.zeros((RUNS,len(x_pred)))\n",
    "for i in range(0,RUNS):\n",
    "    vi_cpd[i,:] = np.reshape(model.predict(x_pred, verbose=0), len(x_pred))"
   ]
  },
  {
   "cell_type": "code",
   "execution_count": 8,
   "metadata": {},
   "outputs": [],
   "source": [
    "# Train the Brewslow estimator\n",
    "train_predictions = model.predict(X_train, verbose=0).reshape(-1)\n",
    "breslow = BreslowEstimator().fit(train_predictions, e_train, t_train)\n",
    "\n",
    "# Make model predictions\n",
    "x_sample = X_test\n",
    "model_vi = np.zeros((RUNS, len(x_sample)))\n",
    "for i in range(0, RUNS):\n",
    "    model_vi[i,:] = np.reshape(model.predict(x_sample, verbose=0), len(x_sample))\n",
    "    \n",
    "# Predict the surv func using Breslow to estimate variance\n",
    "event_times = breslow.get_survival_function(model_vi[0])[0].x\n",
    "breslow_surv_times = np.zeros((len(x_sample), RUNS, len(event_times)))\n",
    "for i in range(0, RUNS):\n",
    "    surv_fns = breslow.get_survival_function(model_vi[i,:])\n",
    "    for j, surv_fn in enumerate(surv_fns):\n",
    "        breslow_surv_times[j,i,:] = surv_fn.y"
   ]
  },
  {
   "cell_type": "code",
   "execution_count": 9,
   "metadata": {},
   "outputs": [
    {
     "data": {
      "text/plain": [
       "<Figure size 512x384 with 0 Axes>"
      ]
     },
     "metadata": {},
     "output_type": "display_data"
    },
    {
     "data": {
      "image/png": "[encoded data removed]",
      "text/plain": [
       "<Figure size 512x384 with 1 Axes>"
      ]
     },
     "metadata": {},
     "output_type": "display_data"
    }
   ],
   "source": [
    "n_samples = breslow_surv_times.shape[1]\n",
    "\n",
    "plt.figure(dpi=80)\n",
    "\n",
    "obs_1_surv_times = breslow_surv_times[0,:,:]\n",
    "ci_surv = 1.96 * np.std(obs_1_surv_times, axis=0) / np.sqrt(n_samples) # 95% CI\n",
    "mean_surv_times = np.mean(obs_1_surv_times, axis=0)\n",
    "\n",
    "# Plot surv funcs with mean and CI\n",
    "plt.figure(dpi=80)\n",
    "plt.step(event_times, mean_surv_times, where=\"post\", label=\"Mean\")\n",
    "plt.fill_between(event_times, mean_surv_times-ci_surv, mean_surv_times+ci_surv,\n",
    "                 color='gray', alpha=0.2, label=\"95% CI\")\n",
    "plt.ylabel(\"Probability of survival $S(t)$\")\n",
    "plt.xlabel(\"Time $t$\")\n",
    "plt.legend()\n",
    "plt.grid(True)\n",
    "plt.show()"
   ]
  }
 ],
 "metadata": {
  "kernelspec": {
   "display_name": "py38-bayes",
   "language": "python",
   "name": "python3"
  },
  "language_info": {
   "codemirror_mode": {
    "name": "ipython",
    "version": 3
   },
   "file_extension": ".py",
   "mimetype": "text/x-python",
   "name": "python",
   "nbconvert_exporter": "python",
   "pygments_lexer": "ipython3",
   "version": "3.8.15"
  },
  "orig_nbformat": 4,
  "vscode": {
   "interpreter": {
    "hash": "6d2574e86ad60c3be0c2736df35aaa1e405d2f3b89e0cc75547c656aad886f1a"
   }
  }
 },
 "nbformat": 4,
 "nbformat_minor": 2
}
