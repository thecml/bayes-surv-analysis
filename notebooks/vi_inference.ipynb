{
 "cells": [
  {
   "cell_type": "code",
   "execution_count": 61,
   "metadata": {},
   "outputs": [
    {
     "name": "stderr",
     "output_type": "stream",
     "text": [
      "iteritems is deprecated and will be removed in a future version. Use .items instead.\n",
      "iteritems is deprecated and will be removed in a future version. Use .items instead.\n",
      "`layer.add_variable` is deprecated and will be removed in a future version. Please use the `layer.add_weight()` method instead.\n",
      "`layer.add_variable` is deprecated and will be removed in a future version. Please use the `layer.add_weight()` method instead.\n"
     ]
    }
   ],
   "source": [
    "matplotlib_style = 'fivethirtyeight'\n",
    "import matplotlib.pyplot as plt; plt.style.use(matplotlib_style)\n",
    "import numpy as np\n",
    "import tensorflow as tf\n",
    "import os\n",
    "from pathlib import Path\n",
    "from utility import CoxPHLoss\n",
    "from sklearn.preprocessing import StandardScaler\n",
    "from data_loader import load_veterans_ds, load_cancer_ds, load_aids_ds, load_nhanes_ds # datasets\n",
    "from data_loader import prepare_veterans_ds, prepare_cancer_ds, \\\n",
    "                        prepare_aids_ds, prepare_nhanes_ds # prepare funcs\n",
    "from sksurv.linear_model.coxph import BreslowEstimator\n",
    "matplotlib_style = 'fivethirtyeight'\n",
    "import matplotlib.pyplot as plt; plt.style.use(matplotlib_style)\n",
    "from sklearn.model_selection import train_test_split\n",
    "from model_builder import make_vi_model\n",
    "\n",
    "# Load data\n",
    "X_train, X_valid, X_test, y_train, y_valid, y_test = load_veterans_ds()\n",
    "t_train, t_valid, t_test, e_train, e_valid, e_test  = prepare_veterans_ds(y_train, y_valid, y_test)\n",
    "\n",
    "# Scale data\n",
    "scaler = StandardScaler()\n",
    "X_train = scaler.fit_transform(X_train)\n",
    "X_valid = scaler.transform(X_valid)\n",
    "X_test = scaler.transform(X_test)\n",
    "\n",
    "# Create model instance\n",
    "model = make_vi_model(n_train_samples=X_train.shape[0],\n",
    "                      input_shape=X_train.shape[1:],\n",
    "                      output_dim=1) # set to 1 to only get epistemic uncertainty\n",
    "\n",
    "# Restore the weights\n",
    "curr_dir = os.getcwd()\n",
    "root_dir = Path(curr_dir).absolute().parent\n",
    "model.load_weights(f'{root_dir}/models/vi/')\n",
    "\n",
    "optimizer = tf.keras.optimizers.Adam()\n",
    "loss_fn = CoxPHLoss()\n",
    "\n",
    "model.compile(loss=loss_fn, optimizer=optimizer)"
   ]
  },
  {
   "cell_type": "code",
   "execution_count": 62,
   "metadata": {},
   "outputs": [
    {
     "name": "stdout",
     "output_type": "stream",
     "text": [
      "[[ 0.33958665 -1.7214575  -2.307121  ]]\n",
      "[[-0.6572808   1.0902758  -0.92396104]]\n",
      "[[-0.01339656  0.5932728  -0.42349398]]\n",
      "[[-0.33084095  0.65403974  1.2750127 ]]\n",
      "[[-0.03661695 -1.2345027  -1.5091839 ]]\n"
     ]
    }
   ],
   "source": [
    "# Make predictions by sampling from the Gaussian posterior\n",
    "x_pred = X_test[:3]\n",
    "for rep in range(5): #Predictions for 5 runs\n",
    "    print(model.predict(x_pred, verbose=0)[0:3].T)"
   ]
  },
  {
   "cell_type": "code",
   "execution_count": 63,
   "metadata": {},
   "outputs": [
    {
     "name": "stdout",
     "output_type": "stream",
     "text": [
      "Model: \"model_7\"\n",
      "_________________________________________________________________\n",
      " Layer (type)                Output Shape              Param #   \n",
      "=================================================================\n",
      " input_8 (InputLayer)        [(None, 8)]               0         \n",
      "                                                                 \n",
      " dense_flipout_28 (DenseFlip  (None, 20)               360       \n",
      " out)                                                            \n",
      "                                                                 \n",
      " dense_flipout_29 (DenseFlip  (None, 50)               2100      \n",
      " out)                                                            \n",
      "                                                                 \n",
      " dense_flipout_30 (DenseFlip  (None, 20)               2040      \n",
      " out)                                                            \n",
      "                                                                 \n",
      " dense_flipout_31 (DenseFlip  (None, 1)                42        \n",
      " out)                                                            \n",
      "                                                                 \n",
      " distribution_lambda_7 (Dist  ((None, 1),              0         \n",
      " ributionLambda)              (None, 1))                         \n",
      "                                                                 \n",
      "=================================================================\n",
      "Total params: 4,542\n",
      "Trainable params: 4,542\n",
      "Non-trainable params: 0\n",
      "_________________________________________________________________\n"
     ]
    }
   ],
   "source": [
    "model.summary()"
   ]
  },
  {
   "cell_type": "code",
   "execution_count": 64,
   "metadata": {},
   "outputs": [],
   "source": [
    "# Sample from the parameters for the post predictive\n",
    "#from keras.models import Model\n",
    "#layer_name = 'dense_flipout_23'\n",
    "#model_params = Model(inputs=model.input,\n",
    "#                     outputs=model.get_layer(layer_name).output)\n",
    "#for rep in range(5): #Predictions for 5 runs\n",
    "#    print(model_params.predict(x_pred, verbose=0)[0:3].T)"
   ]
  },
  {
   "cell_type": "code",
   "execution_count": 65,
   "metadata": {},
   "outputs": [
    {
     "data": {
      "text/plain": [
       "array([[ 0.47438461, -1.78311336, -0.04094204],\n",
       "       [-0.56109107, -1.07131028, -0.23205858],\n",
       "       [-1.59538066, -0.72105765,  0.3392351 ],\n",
       "       [-0.56955254,  2.3749032 , -0.1475573 ],\n",
       "       [-0.36803514,  1.27388227,  1.81273901],\n",
       "       [ 0.54284   , -0.141019  ,  0.11098298],\n",
       "       [-1.06008923,  0.32703868,  2.96915936],\n",
       "       [ 0.4431895 , -0.38670361, -0.51655555],\n",
       "       [ 0.05916172,  0.70891786,  0.74717104],\n",
       "       [-0.42629123,  0.71279973,  0.45351219]])"
      ]
     },
     "execution_count": 65,
     "metadata": {},
     "output_type": "execute_result"
    }
   ],
   "source": [
    "x_pred = X_test[:3]\n",
    "runs = 10\n",
    "vi_cpd = np.zeros((runs,len(x_pred)))\n",
    "for i in range(0,runs):\n",
    "    vi_cpd[i,:] = np.reshape(model.predict(x_pred, verbose=0), len(x_pred))\n",
    "vi_cpd"
   ]
  },
  {
   "cell_type": "code",
   "execution_count": 66,
   "metadata": {},
   "outputs": [],
   "source": [
    "# Train the Brewslow estimator\n",
    "train_predictions = model.predict(X_train, verbose=0).reshape(-1)\n",
    "breslow = BreslowEstimator().fit(train_predictions, e_train, t_train)\n",
    "\n",
    "# Make model predictions\n",
    "x_sample = X_test\n",
    "runs = 10\n",
    "model_vi = np.zeros((runs, len(x_sample)))\n",
    "for i in range(0, runs):\n",
    "    model_vi[i,:] = np.reshape(model.predict(x_sample, verbose=0), len(x_sample))\n",
    "    \n",
    "# Predict the surv func using Breslow to estimate variance\n",
    "event_times = breslow.get_survival_function(model_vi[0])[0].x\n",
    "breslow_surv_times = np.zeros((len(x_sample), runs, len(event_times)))\n",
    "for i in range(0, runs):\n",
    "    surv_fns = breslow.get_survival_function(model_vi[i,:])\n",
    "    for j, surv_fn in enumerate(surv_fns):\n",
    "        breslow_surv_times[j,i,:] = surv_fn.y"
   ]
  },
  {
   "cell_type": "code",
   "execution_count": 67,
   "metadata": {},
   "outputs": [
    {
     "data": {
      "text/plain": [
       "<Figure size 512x384 with 0 Axes>"
      ]
     },
     "metadata": {},
     "output_type": "display_data"
    },
    {
     "data": {
      "image/png": "[encoded data removed]",
      "text/plain": [
       "<Figure size 512x384 with 1 Axes>"
      ]
     },
     "metadata": {},
     "output_type": "display_data"
    }
   ],
   "source": [
    "n_samples = breslow_surv_times.shape[1]\n",
    "\n",
    "plt.figure(dpi=80)\n",
    "\n",
    "obs_1_surv_times = breslow_surv_times[0,:,:]\n",
    "ci_surv = 1.96 * np.std(obs_1_surv_times, axis=0) / np.sqrt(n_samples) # 95% CI\n",
    "mean_surv_times = np.mean(obs_1_surv_times, axis=0)\n",
    "\n",
    "# Plot surv funcs with mean and CI\n",
    "plt.figure(dpi=80)\n",
    "plt.step(event_times, mean_surv_times, where=\"post\", label=\"Mean\")\n",
    "plt.fill_between(event_times, mean_surv_times-ci_surv, mean_surv_times+ci_surv,\n",
    "                 color='gray', alpha=0.2, label=\"95% CI\")\n",
    "plt.ylabel(\"Probability of survival $S(t)$\")\n",
    "plt.xlabel(\"Time $t$\")\n",
    "plt.legend()\n",
    "plt.grid(True)\n",
    "plt.show()"
   ]
  }
 ],
 "metadata": {
  "kernelspec": {
   "display_name": "py38-bayes-surv",
   "language": "python",
   "name": "python3"
  },
  "language_info": {
   "codemirror_mode": {
    "name": "ipython",
    "version": 3
   },
   "file_extension": ".py",
   "mimetype": "text/x-python",
   "name": "python",
   "nbconvert_exporter": "python",
   "pygments_lexer": "ipython3",
   "version": "3.8.15"
  },
  "orig_nbformat": 4,
  "vscode": {
   "interpreter": {
    "hash": "f7b1ff9a052203a82117823168d493ad388bb60e68760c9918163fd0855db357"
   }
  }
 },
 "nbformat": 4,
 "nbformat_minor": 2
}
