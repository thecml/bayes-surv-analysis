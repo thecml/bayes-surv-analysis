{
 "cells": [
  {
   "cell_type": "code",
   "execution_count": null,
   "metadata": {},
   "outputs": [],
   "source": [
    "matplotlib_style = 'fivethirtyeight'\n",
    "import matplotlib.pyplot as plt; plt.style.use(matplotlib_style)"
   ]
  }
 ],
 "metadata": {
  "kernelspec": {
   "display_name": "py38-bayes",
   "language": "python",
   "name": "python3"
  },
  "language_info": {
   "name": "python",
   "version": "3.8.15 (default, Nov 24 2022, 14:38:14) [MSC v.1916 64 bit (AMD64)]"
  },
  "orig_nbformat": 4,
  "vscode": {
   "interpreter": {
    "hash": "6d2574e86ad60c3be0c2736df35aaa1e405d2f3b89e0cc75547c656aad886f1a"
   }
  }
 },
 "nbformat": 4,
 "nbformat_minor": 2
}
