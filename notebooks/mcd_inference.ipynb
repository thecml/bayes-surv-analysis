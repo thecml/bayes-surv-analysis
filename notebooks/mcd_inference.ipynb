{
 "cells": [
  {
   "cell_type": "code",
   "execution_count": 17,
   "metadata": {},
   "outputs": [],
   "source": [
    "matplotlib_style = 'fivethirtyeight'\n",
    "import matplotlib.pyplot as plt; plt.style.use(matplotlib_style)\n",
    "import numpy as np\n",
    "import tensorflow as tf\n",
    "import os\n",
    "from pathlib import Path\n",
    "from sklearn.preprocessing import StandardScaler\n",
    "from sksurv.linear_model.coxph import BreslowEstimator\n",
    "matplotlib_style = 'fivethirtyeight'\n",
    "import matplotlib.pyplot as plt; plt.style.use(matplotlib_style)\n",
    "from sklearn.model_selection import train_test_split\n",
    "from utility.training import get_data_loader, scale_data, make_time_event_split\n",
    "from tools.model_builder import make_mcd_model\n",
    "from utility.config import load_config\n",
    "from utility.loss import CoxPHLoss\n",
    "import paths as pt\n",
    "\n",
    "# Load config\n",
    "config = load_config(pt.MLP_CONFIGS_DIR, f\"SEER.yaml\")\n",
    "optimizer = tf.keras.optimizers.deserialize(config['optimizer'])\n",
    "custom_objects = {\"CoxPHLoss\": CoxPHLoss()}\n",
    "with tf.keras.utils.custom_object_scope(custom_objects):\n",
    "    loss_fn = tf.keras.losses.deserialize(config['loss_fn'])\n",
    "activation_fn = config['activiation_fn']\n",
    "layers = config['network_layers']\n",
    "dropout_rate = config['dropout_rate']\n",
    "l2_reg = config['l2_reg']\n",
    "batch_size = config['batch_size']\n",
    "\n",
    "# Load data\n",
    "dl = get_data_loader(\"SEER\").load_data()\n",
    "X, y = dl.get_data()\n",
    "num_features, cat_features = dl.get_features()\n",
    "\n",
    "# Split data in train and test set\n",
    "X_train, X_test, y_train, y_test = train_test_split(X, y, train_size=0.7, random_state=0)\n",
    "\n",
    "# Scale data\n",
    "X_train, X_test = scale_data(X_train, X_test, cat_features, num_features)\n",
    "X_train = np.array(X_train)\n",
    "X_test = np.array(X_test)\n",
    "\n",
    "# Make time/event split\n",
    "t_train, e_train = make_time_event_split(y_train)\n",
    "t_test, e_test = make_time_event_split(y_test)\n",
    "\n",
    "# Create model instance\n",
    "model = make_mcd_model(input_shape=X_train.shape[1:], output_dim=2,\n",
    "                       layers=layers, activation_fn=activation_fn,\n",
    "                       dropout_rate=dropout_rate, regularization_pen=l2_reg)\n",
    "\n",
    "# Restore the weights\n",
    "curr_dir = os.getcwd()\n",
    "root_dir = Path(curr_dir).absolute().parent\n",
    "model.load_weights(f'{root_dir}/models/seer_mcd')\n",
    "\n",
    "optimizer = tf.keras.optimizers.Adam()\n",
    "loss_fn = CoxPHLoss()\n",
    "model.compile(loss=loss_fn, optimizer=optimizer)"
   ]
  },
  {
   "cell_type": "code",
   "execution_count": null,
   "metadata": {},
   "outputs": [],
   "source": [
    "model.summary()"
   ]
  },
  {
   "cell_type": "code",
   "execution_count": 18,
   "metadata": {},
   "outputs": [
    {
     "name": "stdout",
     "output_type": "stream",
     "text": [
      "[[ 0.32760173 -0.19067551 -0.774713  ]]\n",
      "[[0.7986048  0.8148     0.74693537]]\n",
      "[[-0.2116866 -0.6306409 -0.7369641]]\n",
      "[[-0.5679201  -0.21511966  0.02367288]]\n",
      "[[-0.13952881 -0.9655116   1.157284  ]]\n"
     ]
    }
   ],
   "source": [
    "# Make predictions\n",
    "x_pred = X_test[:3]\n",
    "for rep in range(5): #Predictions for 5 runs\n",
    "    print(model.predict(x_pred, verbose=0)[0:3].T)"
   ]
  },
  {
   "cell_type": "code",
   "execution_count": 20,
   "metadata": {},
   "outputs": [],
   "source": [
    "# Sample from the parameters for the post predictive\n",
    "#from keras.models import Model\n",
    "#layer_name = 'dense_flipout_23'\n",
    "#model_params = Model(inputs=model.input,\n",
    "#                     outputs=model.get_layer(layer_name).output)\n",
    "#for rep in range(5): #Predictions for 5 runs\n",
    "#    print(model_params.predict(x_pred, verbose=0)[0:3].T)"
   ]
  },
  {
   "cell_type": "code",
   "execution_count": 21,
   "metadata": {},
   "outputs": [
    {
     "data": {
      "text/plain": [
       "array([[-1.12424397, -0.04468948, -0.0323683 ],\n",
       "       [-1.02875662,  0.61752641, -0.98881137],\n",
       "       [-1.4420222 ,  1.56642103, -0.41082522],\n",
       "       [-0.13537586, -0.12171282,  0.06164049],\n",
       "       [ 0.51817   , -0.08780129,  0.98741275],\n",
       "       [-1.00968158,  0.29157847,  1.51490211],\n",
       "       [-0.32809991,  0.10337403,  0.72000694],\n",
       "       [ 0.53756654, -0.0758608 ,  0.32649046],\n",
       "       [ 1.52667654, -1.88871396,  0.60620129],\n",
       "       [ 0.24684374,  0.54882699, -0.97953933],\n",
       "       [-0.40789652, -0.46902746,  0.16388434],\n",
       "       [ 0.15242305, -2.24918485, -1.29376614],\n",
       "       [ 0.44985169, -0.03869691, -0.0044615 ],\n",
       "       [ 0.0380649 ,  0.49374795,  0.06056358],\n",
       "       [-0.33207315, -1.07384562,  0.50450736],\n",
       "       [-0.48993617, -0.77210152, -0.45551881],\n",
       "       [-0.15495962,  0.00604944,  0.47873032],\n",
       "       [ 0.13708982, -0.38706613, -0.35445538],\n",
       "       [-0.45082915,  0.3581576 ,  1.69372582],\n",
       "       [-0.01212754, -0.59672666,  0.78403258],\n",
       "       [ 0.93455458,  0.29457095, -0.56876522],\n",
       "       [-0.53774637, -0.54583549, -1.00135577],\n",
       "       [-0.01327767,  0.67279375,  0.02029712],\n",
       "       [-1.25410807, -0.37472877,  0.46580055],\n",
       "       [-0.77654517,  0.12769096,  0.1891382 ],\n",
       "       [-0.75058663, -0.60801852,  0.2736131 ],\n",
       "       [ 0.46539295,  0.98261404,  0.04410445],\n",
       "       [ 0.26437885, -1.00410759,  0.1157209 ],\n",
       "       [ 1.72965717, -0.45436138, -0.2379522 ],\n",
       "       [-0.11048935,  0.36843786,  1.01424062],\n",
       "       [-0.3181009 , -0.57462358,  0.83956552],\n",
       "       [ 0.72979367,  0.18674368,  0.23893282],\n",
       "       [-0.86053145, -1.09041119,  0.65560299],\n",
       "       [-0.34938905, -0.72964728, -0.48569787],\n",
       "       [ 0.29693875, -0.57732189, -1.03213835],\n",
       "       [ 0.49944615, -0.72283721,  0.46174842],\n",
       "       [-0.02392252, -0.92797923, -1.27722573],\n",
       "       [-1.27098393, -0.09666959, -0.23080811],\n",
       "       [-0.92191213, -0.04347101, -0.20806709],\n",
       "       [ 1.1756711 ,  0.16969216,  0.08489969],\n",
       "       [-0.85276246,  0.63906854, -0.39156002],\n",
       "       [ 0.02334391,  1.00526631,  0.72612822],\n",
       "       [-0.4661625 ,  0.83483648,  1.29339695],\n",
       "       [ 1.18890774,  0.17096671, -1.8142823 ],\n",
       "       [-0.51450342, -0.39891714, -0.02200274],\n",
       "       [-0.93362063,  0.42734855, -0.83193028],\n",
       "       [ 0.65612292, -1.31046557, -0.40427834],\n",
       "       [ 0.18180557, -0.38382328, -1.35249484],\n",
       "       [-0.02762212, -1.09737539, -0.21347311],\n",
       "       [-0.32034004,  0.36395398,  0.31731933],\n",
       "       [-1.32269037, -1.44569957,  0.16435771],\n",
       "       [ 0.69115514,  1.14602566, -0.75782859],\n",
       "       [ 0.42142496, -0.48786134, -0.74332809],\n",
       "       [-0.89630431, -2.43116951, -0.59941697],\n",
       "       [ 0.86691231, -1.10452282, -0.43307048],\n",
       "       [-0.34571847,  0.33273607, -0.12255567],\n",
       "       [-0.13371798,  0.94631028, -0.05645689],\n",
       "       [ 0.06430122, -0.83109361, -0.5294925 ],\n",
       "       [-0.18153468,  0.81358802, -0.8987118 ],\n",
       "       [ 1.13358808, -0.03118967,  0.4325121 ],\n",
       "       [-1.55706918,  0.78051734,  0.9209426 ],\n",
       "       [-0.019146  , -0.08388901,  1.0634346 ],\n",
       "       [ 1.11340749,  0.02007425, -0.7128464 ],\n",
       "       [ 0.24047938, -0.37826797,  0.85645771],\n",
       "       [-0.0316316 , -0.22930427,  0.34692308],\n",
       "       [ 0.51405615, -0.33797735, -1.24608994],\n",
       "       [ 1.5583775 , -1.56494403,  2.05743885],\n",
       "       [-1.14317119,  1.15671086, -0.77334189],\n",
       "       [ 0.58286262, -0.15511753, -0.12192217],\n",
       "       [ 1.37841916, -0.16708466,  0.24243557],\n",
       "       [ 0.23774773, -0.29026341, -0.46961614],\n",
       "       [ 0.55143321, -0.89732289, -0.42306158],\n",
       "       [ 0.17387979, -0.31605345,  0.64566576],\n",
       "       [-0.65147817,  0.07214618, -0.66082853],\n",
       "       [-1.4177376 , -0.11537379,  0.35598639],\n",
       "       [ 0.97392142,  0.54374611,  0.66327268],\n",
       "       [-0.52215952,  1.06503117, -0.08196628],\n",
       "       [-0.19728978, -0.37288201,  1.61083639],\n",
       "       [ 0.35123736, -0.43479198, -0.07894683],\n",
       "       [-0.2526367 , -0.23846474,  0.9277004 ],\n",
       "       [ 0.21737868, -0.37118089, -0.61026353],\n",
       "       [ 0.29074758, -0.55985463,  0.18150237],\n",
       "       [ 0.58467627,  0.07764658,  0.05291355],\n",
       "       [ 0.43109387, -0.32355502, -1.18810689],\n",
       "       [ 0.83492905, -0.06969975, -0.0208324 ],\n",
       "       [ 0.45328075, -1.43946505,  0.04800218],\n",
       "       [-1.55090261,  1.05762362,  0.45081758],\n",
       "       [ 0.2231501 ,  0.54479009, -0.44304284],\n",
       "       [ 0.10251097,  0.17318124,  0.83442837],\n",
       "       [-0.33057079, -0.26446187, -0.93874002],\n",
       "       [ 0.58054948, -0.29406354, -0.46741691],\n",
       "       [-0.35068497, -0.63639241, -0.65423739],\n",
       "       [ 0.14175476,  0.77271032, -0.60198313],\n",
       "       [-0.18057875, -0.4193534 , -0.98872316],\n",
       "       [-0.32204849, -2.12444901, -0.38192761],\n",
       "       [-0.36792696,  1.08871078,  0.12319374],\n",
       "       [-0.02784954, -0.06140454,  1.54039598],\n",
       "       [-0.37671751, -0.69708538,  0.3056995 ],\n",
       "       [ 0.87101018,  0.68478322, -0.01621915],\n",
       "       [-1.14842129,  0.32463667, -0.1393303 ]])"
      ]
     },
     "execution_count": 21,
     "metadata": {},
     "output_type": "execute_result"
    }
   ],
   "source": [
    "x_pred = X_test[:3]\n",
    "runs = 100\n",
    "vi_cpd = np.zeros((runs,len(x_pred)))\n",
    "for i in range(0,runs):\n",
    "    vi_cpd[i,:] = np.reshape(model.predict(x_pred, verbose=0), len(x_pred))"
   ]
  },
  {
   "cell_type": "code",
   "execution_count": 22,
   "metadata": {},
   "outputs": [],
   "source": [
    "# Train the Brewslow estimator\n",
    "train_predictions = model.predict(X_train, verbose=0).reshape(-1)\n",
    "breslow = BreslowEstimator().fit(train_predictions, e_train, t_train)\n",
    "\n",
    "# Make model predictions\n",
    "x_sample = X_test\n",
    "runs = 100\n",
    "model_vi = np.zeros((runs, len(x_sample)))\n",
    "for i in range(0, runs):\n",
    "    model_vi[i,:] = np.reshape(model.predict(x_sample, verbose=0), len(x_sample))\n",
    "    \n",
    "# Predict the surv func using Breslow to estimate variance\n",
    "event_times = breslow.get_survival_function(model_vi[0])[0].x\n",
    "breslow_surv_times = np.zeros((len(x_sample), runs, len(event_times)))\n",
    "for i in range(0, runs):\n",
    "    surv_fns = breslow.get_survival_function(model_vi[i,:])\n",
    "    for j, surv_fn in enumerate(surv_fns):\n",
    "        breslow_surv_times[j,i,:] = surv_fn.y"
   ]
  },
  {
   "cell_type": "code",
   "execution_count": 23,
   "metadata": {},
   "outputs": [
    {
     "data": {
      "text/plain": [
       "<Figure size 512x384 with 0 Axes>"
      ]
     },
     "metadata": {},
     "output_type": "display_data"
    },
    {
     "data": {
      "image/png": "[encoded data removed]",
      "text/plain": [
       "<Figure size 512x384 with 1 Axes>"
      ]
     },
     "metadata": {},
     "output_type": "display_data"
    }
   ],
   "source": [
    "n_samples = breslow_surv_times.shape[1]\n",
    "\n",
    "plt.figure(dpi=80)\n",
    "\n",
    "obs_1_surv_times = breslow_surv_times[0,:,:]\n",
    "ci_surv = 1.96 * np.std(obs_1_surv_times, axis=0) / np.sqrt(n_samples) # 95% CI\n",
    "mean_surv_times = np.mean(obs_1_surv_times, axis=0)\n",
    "\n",
    "# Plot surv funcs with mean and CI\n",
    "plt.figure(dpi=80)\n",
    "plt.step(event_times, mean_surv_times, where=\"post\", label=\"Mean\")\n",
    "plt.fill_between(event_times, mean_surv_times-ci_surv, mean_surv_times+ci_surv,\n",
    "                 color='gray', alpha=0.2, label=\"95% CI\")\n",
    "plt.ylabel(\"Probability of survival $S(t)$\")\n",
    "plt.xlabel(\"Time $t$\")\n",
    "plt.legend()\n",
    "plt.grid(True)\n",
    "plt.show()"
   ]
  }
 ],
 "metadata": {
  "kernelspec": {
   "display_name": "py38-bayes",
   "language": "python",
   "name": "python3"
  },
  "language_info": {
   "codemirror_mode": {
    "name": "ipython",
    "version": 3
   },
   "file_extension": ".py",
   "mimetype": "text/x-python",
   "name": "python",
   "nbconvert_exporter": "python",
   "pygments_lexer": "ipython3",
   "version": "3.8.15"
  },
  "orig_nbformat": 4,
  "vscode": {
   "interpreter": {
    "hash": "6d2574e86ad60c3be0c2736df35aaa1e405d2f3b89e0cc75547c656aad886f1a"
   }
  }
 },
 "nbformat": 4,
 "nbformat_minor": 2
}
