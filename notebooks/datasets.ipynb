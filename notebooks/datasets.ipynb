{
 "cells": [
  {
   "cell_type": "code",
   "execution_count": 56,
   "metadata": {},
   "outputs": [],
   "source": [
    "import numpy as np\n",
    "import tensorflow as tf\n",
    "import random\n",
    "import pandas as pd\n",
    "\n",
    "from sklearn.model_selection import train_test_split\n",
    "from sksurv.metrics import concordance_index_censored, concordance_index_ipcw\n",
    "from sksurv.metrics import integrated_brier_score\n",
    "from utility.survival import convert_to_structured\n",
    "from utility.training import get_data_loader, scale_data, make_time_event_split\n",
    "from tools.model_builder import make_cox_model, make_coxnet_model, make_rsf_model\n",
    "from utility.risk import _make_riskset\n",
    "from utility.loss import CoxPHLoss\n",
    "from pathlib import Path\n",
    "import paths as pt\n",
    "import joblib\n",
    "import os\n",
    "from time import time\n",
    "from utility.config import load_config\n",
    "from tools.preprocessor import Preprocessor\n",
    "\n",
    "# \"SUPPORT\" \"SEER\" \"GBSG2\" \"WHAS500\" \"FLCHAIN\" \"METABRIC\""
   ]
  },
  {
   "cell_type": "code",
   "execution_count": 57,
   "metadata": {},
   "outputs": [],
   "source": [
    "dl = get_data_loader(\"METABRIC\").load_data()\n",
    "X, y = dl.get_data()\n",
    "num_features, cat_features = dl.get_features()"
   ]
  },
  {
   "cell_type": "code",
   "execution_count": 58,
   "metadata": {},
   "outputs": [
    {
     "data": {
      "text/plain": [
       "array([(False,  99.33333588), ( True,  95.73332977),\n",
       "       (False, 140.2333374 ), ..., ( True,  37.86666489),\n",
       "       (False, 198.43333435), (False, 140.7666626 )],\n",
       "      dtype=[('Event', '?'), ('Time', '<f8')])"
      ]
     },
     "execution_count": 58,
     "metadata": {},
     "output_type": "execute_result"
    }
   ],
   "source": [
    "y"
   ]
  },
  {
   "cell_type": "code",
   "execution_count": 59,
   "metadata": {},
   "outputs": [
    {
     "data": {
      "text/html": [
       "<div>\n",
       "<style scoped>\n",
       "    .dataframe tbody tr th:only-of-type {\n",
       "        vertical-align: middle;\n",
       "    }\n",
       "\n",
       "    .dataframe tbody tr th {\n",
       "        vertical-align: top;\n",
       "    }\n",
       "\n",
       "    .dataframe thead th {\n",
       "        text-align: right;\n",
       "    }\n",
       "</style>\n",
       "<table border=\"1\" class=\"dataframe\">\n",
       "  <thead>\n",
       "    <tr style=\"text-align: right;\">\n",
       "      <th></th>\n",
       "      <th>x0</th>\n",
       "      <th>x1</th>\n",
       "      <th>x2</th>\n",
       "      <th>x3</th>\n",
       "      <th>x8</th>\n",
       "      <th>x4</th>\n",
       "      <th>x5</th>\n",
       "      <th>x6</th>\n",
       "      <th>x7</th>\n",
       "    </tr>\n",
       "  </thead>\n",
       "  <tbody>\n",
       "    <tr>\n",
       "      <th>0</th>\n",
       "      <td>5.603834</td>\n",
       "      <td>7.811392</td>\n",
       "      <td>10.797988</td>\n",
       "      <td>5.967607</td>\n",
       "      <td>56.840000</td>\n",
       "      <td>1.0</td>\n",
       "      <td>1.0</td>\n",
       "      <td>0.0</td>\n",
       "      <td>1.0</td>\n",
       "    </tr>\n",
       "    <tr>\n",
       "      <th>1</th>\n",
       "      <td>5.284882</td>\n",
       "      <td>9.581043</td>\n",
       "      <td>10.204620</td>\n",
       "      <td>5.664970</td>\n",
       "      <td>85.940002</td>\n",
       "      <td>1.0</td>\n",
       "      <td>0.0</td>\n",
       "      <td>0.0</td>\n",
       "      <td>1.0</td>\n",
       "    </tr>\n",
       "    <tr>\n",
       "      <th>2</th>\n",
       "      <td>5.920251</td>\n",
       "      <td>6.776564</td>\n",
       "      <td>12.431715</td>\n",
       "      <td>5.873857</td>\n",
       "      <td>48.439999</td>\n",
       "      <td>0.0</td>\n",
       "      <td>1.0</td>\n",
       "      <td>0.0</td>\n",
       "      <td>1.0</td>\n",
       "    </tr>\n",
       "    <tr>\n",
       "      <th>3</th>\n",
       "      <td>6.654017</td>\n",
       "      <td>5.341846</td>\n",
       "      <td>8.646379</td>\n",
       "      <td>5.655888</td>\n",
       "      <td>66.910004</td>\n",
       "      <td>0.0</td>\n",
       "      <td>0.0</td>\n",
       "      <td>0.0</td>\n",
       "      <td>0.0</td>\n",
       "    </tr>\n",
       "    <tr>\n",
       "      <th>4</th>\n",
       "      <td>5.456747</td>\n",
       "      <td>5.339741</td>\n",
       "      <td>10.555724</td>\n",
       "      <td>6.008429</td>\n",
       "      <td>67.849998</td>\n",
       "      <td>1.0</td>\n",
       "      <td>0.0</td>\n",
       "      <td>0.0</td>\n",
       "      <td>1.0</td>\n",
       "    </tr>\n",
       "    <tr>\n",
       "      <th>...</th>\n",
       "      <td>...</td>\n",
       "      <td>...</td>\n",
       "      <td>...</td>\n",
       "      <td>...</td>\n",
       "      <td>...</td>\n",
       "      <td>...</td>\n",
       "      <td>...</td>\n",
       "      <td>...</td>\n",
       "      <td>...</td>\n",
       "    </tr>\n",
       "    <tr>\n",
       "      <th>1899</th>\n",
       "      <td>5.946987</td>\n",
       "      <td>5.370492</td>\n",
       "      <td>12.345780</td>\n",
       "      <td>5.741395</td>\n",
       "      <td>76.839996</td>\n",
       "      <td>1.0</td>\n",
       "      <td>1.0</td>\n",
       "      <td>0.0</td>\n",
       "      <td>1.0</td>\n",
       "    </tr>\n",
       "    <tr>\n",
       "      <th>1900</th>\n",
       "      <td>5.339228</td>\n",
       "      <td>5.408853</td>\n",
       "      <td>12.176101</td>\n",
       "      <td>5.693043</td>\n",
       "      <td>63.090000</td>\n",
       "      <td>1.0</td>\n",
       "      <td>1.0</td>\n",
       "      <td>0.0</td>\n",
       "      <td>1.0</td>\n",
       "    </tr>\n",
       "    <tr>\n",
       "      <th>1901</th>\n",
       "      <td>5.901610</td>\n",
       "      <td>5.272237</td>\n",
       "      <td>14.200950</td>\n",
       "      <td>6.139390</td>\n",
       "      <td>57.770000</td>\n",
       "      <td>0.0</td>\n",
       "      <td>0.0</td>\n",
       "      <td>0.0</td>\n",
       "      <td>1.0</td>\n",
       "    </tr>\n",
       "    <tr>\n",
       "      <th>1902</th>\n",
       "      <td>6.818109</td>\n",
       "      <td>5.372744</td>\n",
       "      <td>11.652624</td>\n",
       "      <td>6.077852</td>\n",
       "      <td>58.889999</td>\n",
       "      <td>1.0</td>\n",
       "      <td>0.0</td>\n",
       "      <td>0.0</td>\n",
       "      <td>1.0</td>\n",
       "    </tr>\n",
       "    <tr>\n",
       "      <th>1903</th>\n",
       "      <td>5.725708</td>\n",
       "      <td>5.449718</td>\n",
       "      <td>9.680736</td>\n",
       "      <td>6.595955</td>\n",
       "      <td>60.630001</td>\n",
       "      <td>1.0</td>\n",
       "      <td>1.0</td>\n",
       "      <td>0.0</td>\n",
       "      <td>0.0</td>\n",
       "    </tr>\n",
       "  </tbody>\n",
       "</table>\n",
       "<p>1904 rows × 9 columns</p>\n",
       "</div>"
      ],
      "text/plain": [
       "            x0        x1         x2        x3         x8   x4   x5   x6   x7\n",
       "0     5.603834  7.811392  10.797988  5.967607  56.840000  1.0  1.0  0.0  1.0\n",
       "1     5.284882  9.581043  10.204620  5.664970  85.940002  1.0  0.0  0.0  1.0\n",
       "2     5.920251  6.776564  12.431715  5.873857  48.439999  0.0  1.0  0.0  1.0\n",
       "3     6.654017  5.341846   8.646379  5.655888  66.910004  0.0  0.0  0.0  0.0\n",
       "4     5.456747  5.339741  10.555724  6.008429  67.849998  1.0  0.0  0.0  1.0\n",
       "...        ...       ...        ...       ...        ...  ...  ...  ...  ...\n",
       "1899  5.946987  5.370492  12.345780  5.741395  76.839996  1.0  1.0  0.0  1.0\n",
       "1900  5.339228  5.408853  12.176101  5.693043  63.090000  1.0  1.0  0.0  1.0\n",
       "1901  5.901610  5.272237  14.200950  6.139390  57.770000  0.0  0.0  0.0  1.0\n",
       "1902  6.818109  5.372744  11.652624  6.077852  58.889999  1.0  0.0  0.0  1.0\n",
       "1903  5.725708  5.449718   9.680736  6.595955  60.630001  1.0  1.0  0.0  0.0\n",
       "\n",
       "[1904 rows x 9 columns]"
      ]
     },
     "execution_count": 59,
     "metadata": {},
     "output_type": "execute_result"
    }
   ],
   "source": [
    "X"
   ]
  },
  {
   "cell_type": "code",
   "execution_count": 60,
   "metadata": {},
   "outputs": [
    {
     "data": {
      "text/plain": [
       "(1904, 9)"
      ]
     },
     "execution_count": 60,
     "metadata": {},
     "output_type": "execute_result"
    }
   ],
   "source": [
    "X.shape"
   ]
  },
  {
   "cell_type": "code",
   "execution_count": 61,
   "metadata": {},
   "outputs": [
    {
     "data": {
      "text/plain": [
       "Index(['x0', 'x1', 'x2', 'x3', 'x8', 'x4', 'x5', 'x6', 'x7'], dtype='object')"
      ]
     },
     "execution_count": 61,
     "metadata": {},
     "output_type": "execute_result"
    }
   ],
   "source": [
    "X.columns"
   ]
  },
  {
   "cell_type": "code",
   "execution_count": 62,
   "metadata": {},
   "outputs": [
    {
     "name": "stdout",
     "output_type": "stream",
     "text": [
      "Number of samples: 1904\n",
      "Number of uncensored/censored: 1103/801\n",
      "42.07% of records are censored\n",
      "\n"
     ]
    }
   ],
   "source": [
    "obs_arr = np.array(y['Event'])\n",
    "n_censored = obs_arr.shape[0] - obs_arr.sum()\n",
    "print(f\"Number of samples: {len(y)}\")\n",
    "print(f\"Number of uncensored/censored: {obs_arr.shape[0]-n_censored}/{n_censored}\")\n",
    "print(f\"{round(n_censored / obs_arr.shape[0] * 100, 2)}% of records are censored\\n\")"
   ]
  },
  {
   "cell_type": "code",
   "execution_count": 63,
   "metadata": {},
   "outputs": [
    {
     "data": {
      "text/plain": [
       "99.95222141031692"
      ]
     },
     "execution_count": 63,
     "metadata": {},
     "output_type": "execute_result"
    }
   ],
   "source": [
    "y[(y['Event'] == True)]['Time'].mean()"
   ]
  },
  {
   "cell_type": "code",
   "execution_count": 64,
   "metadata": {},
   "outputs": [
    {
     "data": {
      "text/plain": [
       "(1904, 9)"
      ]
     },
     "execution_count": 64,
     "metadata": {},
     "output_type": "execute_result"
    }
   ],
   "source": [
    "preprocessor = Preprocessor(cat_feat_strat='mode', num_feat_strat='mean')\n",
    "transformer = preprocessor.fit(X, cat_feats=cat_features, num_feats=num_features,\n",
    "                               one_hot=True, fill_value=-1)\n",
    "np.array(transformer.transform(X), dtype=np.float32).shape"
   ]
  }
 ],
 "metadata": {
  "kernelspec": {
   "display_name": "py38-bayes-surv",
   "language": "python",
   "name": "python3"
  },
  "language_info": {
   "codemirror_mode": {
    "name": "ipython",
    "version": 3
   },
   "file_extension": ".py",
   "mimetype": "text/x-python",
   "name": "python",
   "nbconvert_exporter": "python",
   "pygments_lexer": "ipython3",
   "version": "3.8.15"
  },
  "orig_nbformat": 4
 },
 "nbformat": 4,
 "nbformat_minor": 2
}
