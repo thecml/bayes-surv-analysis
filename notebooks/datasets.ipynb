{
 "cells": [
  {
   "cell_type": "code",
   "execution_count": 48,
   "metadata": {},
   "outputs": [],
   "source": [
    "import numpy as np\n",
    "import tensorflow as tf\n",
    "import random\n",
    "import pandas as pd\n",
    "\n",
    "from sklearn.model_selection import train_test_split\n",
    "from sksurv.metrics import concordance_index_censored, concordance_index_ipcw\n",
    "from sksurv.metrics import integrated_brier_score\n",
    "from utility.survival import convert_to_structured\n",
    "from utility.training import get_data_loader, scale_data, make_time_event_split\n",
    "from tools.model_builder import make_cox_model, make_coxnet_model, make_rsf_model\n",
    "from utility.risk import _make_riskset\n",
    "from utility.loss import CoxPHLoss\n",
    "from pathlib import Path\n",
    "import paths as pt\n",
    "import joblib\n",
    "import os\n",
    "from time import time\n",
    "from utility.config import load_config\n",
    "from tools.preprocessor import Preprocessor\n",
    "\n",
    "# \"SUPPORT\" \"SEER\" \"GBSG2\" \"WHAS500\" \"FLCHAIN\" \"METABRIC\""
   ]
  },
  {
   "cell_type": "code",
   "execution_count": 49,
   "metadata": {},
   "outputs": [],
   "source": [
    "dl = get_data_loader(\"FLCHAIN\").load_data()\n",
    "X, y = dl.get_data()\n",
    "num_features, cat_features = dl.get_features()"
   ]
  },
  {
   "cell_type": "code",
   "execution_count": 50,
   "metadata": {},
   "outputs": [
    {
     "name": "stdout",
     "output_type": "stream",
     "text": [
      "Number of samples: 7871\n",
      "Number of uncensored/censored: 2166/5705\n",
      "72.0 % of records are censored\n",
      "28.000000000000004 % of records are uncensored\n",
      "\n"
     ]
    }
   ],
   "source": [
    "obs_arr = np.array(y['event'])\n",
    "n_censored = obs_arr.shape[0] - obs_arr.sum()\n",
    "print(f\"Number of samples: {len(y)}\")\n",
    "print(f\"Number of uncensored/censored: {obs_arr.shape[0]-n_censored}/{n_censored}\")\n",
    "pct_censored = round(n_censored / obs_arr.shape[0], 2)\n",
    "print(f\"{pct_censored* 100} % of records are censored\")\n",
    "print(f\"{(1-pct_censored)* 100} % of records are uncensored\\n\")"
   ]
  },
  {
   "cell_type": "code",
   "execution_count": 51,
   "metadata": {},
   "outputs": [
    {
     "name": "stdout",
     "output_type": "stream",
     "text": [
      "4\n",
      "5\n"
     ]
    }
   ],
   "source": [
    "print(len(num_features))\n",
    "print(len(cat_features))"
   ]
  },
  {
   "cell_type": "code",
   "execution_count": 52,
   "metadata": {},
   "outputs": [
    {
     "name": "stdout",
     "output_type": "stream",
     "text": [
      "1.0\n",
      "4998.0\n",
      "2177.5480147737767\n"
     ]
    }
   ],
   "source": [
    "print(y[(y['event'] == True)]['time'].min())\n",
    "print(y[(y['event'] == True)]['time'].max())\n",
    "print(y[(y['event'] == True)]['time'].mean())"
   ]
  },
  {
   "cell_type": "code",
   "execution_count": 53,
   "metadata": {},
   "outputs": [
    {
     "name": "stdout",
     "output_type": "stream",
     "text": [
      "1.0\n",
      "5215.0\n",
      "4226.201226993865\n"
     ]
    }
   ],
   "source": [
    "print(y[(y['event'] == False)]['time'].min())\n",
    "print(y[(y['event'] == False)]['time'].max())\n",
    "print(y[(y['event'] == False)]['time'].mean())"
   ]
  }
 ],
 "metadata": {
  "kernelspec": {
   "display_name": "py38-bayes-surv",
   "language": "python",
   "name": "python3"
  },
  "language_info": {
   "codemirror_mode": {
    "name": "ipython",
    "version": 3
   },
   "file_extension": ".py",
   "mimetype": "text/x-python",
   "name": "python",
   "nbconvert_exporter": "python",
   "pygments_lexer": "ipython3",
   "version": "3.8.15"
  },
  "orig_nbformat": 4
 },
 "nbformat": 4,
 "nbformat_minor": 2
}
