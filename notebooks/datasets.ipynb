{
 "cells": [
  {
   "cell_type": "code",
   "execution_count": 47,
   "metadata": {},
   "outputs": [],
   "source": [
    "import numpy as np\n",
    "import tensorflow as tf\n",
    "import random\n",
    "import pandas as pd\n",
    "\n",
    "from sklearn.model_selection import train_test_split\n",
    "from sksurv.metrics import concordance_index_censored, concordance_index_ipcw\n",
    "from sksurv.metrics import integrated_brier_score\n",
    "from utility.survival import convert_to_structured\n",
    "from utility.training import get_data_loader, scale_data, make_time_event_split\n",
    "from tools.model_builder import make_cox_model, make_coxnet_model, make_rsf_model\n",
    "from utility.risk import _make_riskset\n",
    "from utility.loss import CoxPHLoss\n",
    "from pathlib import Path\n",
    "import paths as pt\n",
    "import joblib\n",
    "import os\n",
    "from time import time\n",
    "from utility.config import load_config\n",
    "from tools.preprocessor import Preprocessor\n",
    "\n",
    "# \"SUPPORT\" \"SEER\" \"GBSG2\" \"WHAS\" \"FLCHAIN\" \"METABRIC\")"
   ]
  },
  {
   "cell_type": "code",
   "execution_count": 48,
   "metadata": {},
   "outputs": [],
   "source": [
    "dl = get_data_loader(\"GBSG2\").load_data()\n",
    "X, y = dl.get_data()\n",
    "num_features, cat_features = dl.get_features()"
   ]
  },
  {
   "cell_type": "code",
   "execution_count": 49,
   "metadata": {},
   "outputs": [
    {
     "name": "stdout",
     "output_type": "stream",
     "text": [
      "Number of samples: 8873\n",
      "Number of censored/uncensored: 2837/6036\n",
      "31.97% of records are censored\n",
      "\n"
     ]
    }
   ],
   "source": [
    "obs_arr = np.array(y['Event'])\n",
    "n_censored = obs_arr.shape[0] - obs_arr.sum()\n",
    "print(f\"Number of samples: {len(y)}\")\n",
    "print(f\"Number of censored/uncensored: {n_censored}/{obs_arr.shape[0]-n_censored}\")\n",
    "print(f\"{round(n_censored / obs_arr.shape[0] * 100, 2)}% of records are censored\\n\")"
   ]
  },
  {
   "cell_type": "code",
   "execution_count": 50,
   "metadata": {},
   "outputs": [
    {
     "data": {
      "text/plain": [
       "205.4536116633532"
      ]
     },
     "execution_count": 50,
     "metadata": {},
     "output_type": "execute_result"
    }
   ],
   "source": [
    "y[(y['Event'] == True)]['Time'].mean()"
   ]
  },
  {
   "cell_type": "code",
   "execution_count": 51,
   "metadata": {},
   "outputs": [
    {
     "data": {
      "text/plain": [
       "(8873, 14)"
      ]
     },
     "execution_count": 51,
     "metadata": {},
     "output_type": "execute_result"
    }
   ],
   "source": [
    "\n",
    "preprocessor = Preprocessor(cat_feat_strat='mode', num_feat_strat='mean')\n",
    "transformer = preprocessor.fit(X, cat_feats=cat_features, num_feats=num_features,\n",
    "                               one_hot=True, fill_value=-1)\n",
    "np.array(transformer.transform(X), dtype=np.float32).shape"
   ]
  }
 ],
 "metadata": {
  "kernelspec": {
   "display_name": "py38-bayes-surv",
   "language": "python",
   "name": "python3"
  },
  "language_info": {
   "codemirror_mode": {
    "name": "ipython",
    "version": 3
   },
   "file_extension": ".py",
   "mimetype": "text/x-python",
   "name": "python",
   "nbconvert_exporter": "python",
   "pygments_lexer": "ipython3",
   "version": "3.8.15"
  },
  "orig_nbformat": 4
 },
 "nbformat": 4,
 "nbformat_minor": 2
}
